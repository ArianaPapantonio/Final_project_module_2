{
 "cells": [
  {
   "cell_type": "markdown",
   "metadata": {},
   "source": [
    "auth.getSession\n",
    "\n",
    "Fetch a session key for a user. The third step in the authentication process. See the authentication how-to for more information.\n",
    "Params\n",
    "\n",
    "token (Required) : A 32-character ASCII hexadecimal MD5 hash returned by step 1 of the authentication process (following the granting of permissions to the application by the user)\n",
    "api_key (Required) : A Last.fm API key.\n",
    "api_sig (Required) : A Last.fm method signature. See authentication for more information."
   ]
  },
  {
   "cell_type": "markdown",
   "metadata": {},
   "source": [
    "artist.getTopTracks\n",
    "\n",
    "Get the top tracks by an artist on Last.fm, ordered by popularity\n",
    "Example URLs\n",
    "\n",
    "JSON: /2.0/?method=artist.gettoptracks&artist=cher&api_key=YOUR_API_KEY&format=json\n",
    "\n",
    "XML: /2.0/?method=artist.gettoptracks&artist=cher&api_key=YOUR_API_KEY\n",
    "Params\n",
    "\n",
    "artist (Required (unless mbid)] : The artist name\n",
    "mbid (Optional) : The musicbrainz id for the artist\n",
    "autocorrect[0|1] (Optional) : Transform misspelled artist names into correct artist names, returning the correct version instead. The corrected artist name will be returned in the response.\n",
    "page (Optional) : The page number to fetch. Defaults to first page.\n",
    "limit (Optional) : The number of results to fetch per page. Defaults to 50.\n",
    "api_key (Required) : A Last.fm API key."
   ]
  },
  {
   "cell_type": "code",
   "execution_count": 4,
   "metadata": {},
   "outputs": [
    {
     "name": "stdout",
     "output_type": "stream",
     "text": [
      "Token: {\"token\":\"rGQ7ffzb5l4Tpma2mpaTNYcUSfvXHMeX\"}\n"
     ]
    }
   ],
   "source": [
    "import requests\n",
    "import pandas as pd\n",
    "\n",
    "API_KEY = '357e10dfd8c3d43a08795cbb92a9cf24'\n",
    "API_SECRET = '1702885e042cee4d290d834146c2891a'\n",
    "\n",
    "url = f'https://ws.audioscrobbler.com/2.0/?method=auth.gettoken&api_key={API_KEY}&format=json'\n",
    "params = {\n",
    "    'api_key': API_KEY\n",
    "}\n",
    "\n",
    "response = requests.get(url, params=params)\n",
    "\n",
    "if response.status_code == 200:\n",
    "    token = response.text  # Guarda el token de la respuesta\n",
    "    print(f'Token: {token}')\n",
    "else:\n",
    "    print('Error al obtener el token')"
   ]
  },
  {
   "cell_type": "code",
   "execution_count": 8,
   "metadata": {},
   "outputs": [
    {
     "name": "stdout",
     "output_type": "stream",
     "text": [
      "la llamada es correcta\n"
     ]
    }
   ],
   "source": [
    "token = 'rGQ7ffzb5l4Tpma2mpaTNYcUSfvXHMeX'\n",
    "url1 = f'http://www.last.fm/api/auth/?{API_KEY}token={token}'\n",
    "params = {\n",
    "    'token': token,\n",
    "    'api_key': API_KEY,\n",
    "    #'api_sig': API_SECRET\n",
    "    }\n",
    "\n",
    "response = requests.get(url1, params=params)\n",
    "\n",
    "if response.status_code == 200:\n",
    "    token = response.text  # Guarda el token de la respuesta\n",
    "    print(f'la llamada es correcta')\n",
    "else:\n",
    "    print(response.status_code)\n",
    "    print(response.reason)"
   ]
  },
  {
   "cell_type": "code",
   "execution_count": 12,
   "metadata": {},
   "outputs": [],
   "source": [
    "import hashlib"
   ]
  },
  {
   "cell_type": "code",
   "execution_count": 13,
   "metadata": {},
   "outputs": [
    {
     "name": "stdout",
     "output_type": "stream",
     "text": [
      "Error 403: Forbidden\n"
     ]
    }
   ],
   "source": [
    "# Paso 1: Concatenar los parámetros en el orden correcto\n",
    "concatenated_params = f'api_key{API_KEY}methodauth.getSessiontoken{token}{API_SECRET}'\n",
    "\n",
    "# Paso 2: Generar el hash MD5 de la cadena concatenada\n",
    "api_sig = hashlib.md5(concatenated_params.encode('utf-8')).hexdigest()\n",
    "\n",
    "# Paso 3: Hacer la solicitud con los parámetros correctos\n",
    "url2 = f'https://ws.audioscrobbler.com/2.0/?method=auth.getSession&api_key={API_KEY}&token={token}&api_sig={api_sig}&format=json'\n",
    "\n",
    "response = requests.get(url2)\n",
    "\n",
    "# Comprobación de la respuesta\n",
    "if response.status_code == 200:\n",
    "    print('La llamada es correcta')\n",
    "    print(response.json())  # Mostrar la respuesta en formato JSON\n",
    "else:\n",
    "    print(f'Error {response.status_code}: {response.reason}')"
   ]
  },
  {
   "cell_type": "code",
   "execution_count": 11,
   "metadata": {},
   "outputs": [
    {
     "name": "stdout",
     "output_type": "stream",
     "text": [
      "400\n",
      "Bad Request\n"
     ]
    }
   ],
   "source": [
    "token = 'rGQ7ffzb5l4Tpma2mpaTNYcUSfvXHMeX'\n",
    "url2 = 'https://ws.audioscrobbler.com/2.0/?method=auth.getSession&api_key=357e10dfd8c3d43a08795cbb92a9cf24&token=rGQ7ffzb5l4Tpma2mpaTNYcUSfvXHMeX&api_sig=1702885e042cee4d290d834146c2891a&format=json'\n",
    "#params = {\n",
    "    #'token': token,\n",
    "    #'api_key': API_KEY,\n",
    "    #'api_sig': API_SECRET\n",
    "    #}\n",
    "\n",
    "response = requests.get(url2)\n",
    "\n",
    "if response.status_code == 200:\n",
    "    token = response.text  # Guarda el token de la respuesta\n",
    "    print(f'la llamada es correcta')\n",
    "else:\n",
    "    print(response.status_code)\n",
    "    print(response.reason)"
   ]
  }
 ],
 "metadata": {
  "kernelspec": {
   "display_name": "Python 3",
   "language": "python",
   "name": "python3"
  },
  "language_info": {
   "codemirror_mode": {
    "name": "ipython",
    "version": 3
   },
   "file_extension": ".py",
   "mimetype": "text/x-python",
   "name": "python",
   "nbconvert_exporter": "python",
   "pygments_lexer": "ipython3",
   "version": "3.9.6"
  }
 },
 "nbformat": 4,
 "nbformat_minor": 2
}
