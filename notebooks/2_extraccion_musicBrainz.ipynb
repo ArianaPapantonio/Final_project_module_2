{
 "cells": [
  {
   "cell_type": "code",
   "execution_count": 15,
   "metadata": {},
   "outputs": [],
   "source": [
    "import pandas as pd\n",
    "import requests\n",
    "import re\n",
    "\n",
    "pd.set_option('display.max_columns', None)\n",
    "pd.set_option('display.max_rows', None)\n",
    "\n",
    "import os\n",
    "from dotenv import load_dotenv \n",
    "\n",
    "import csv\n",
    "import json"
   ]
  },
  {
   "cell_type": "markdown",
   "metadata": {},
   "source": [
    "Extraer detalles como:\n",
    "\n",
    "Artista -> de mis artistas  de spotify -> traer CSV??? 🚨🚨\n",
    "\n",
    "País de Origen.\n",
    "\n",
    "Area de Origen.\n",
    "\n",
    "Fechas inicio de actividad.\n",
    "\n",
    "Fechas fin de actividad (en caso que tenga o simplemente \"actualidad\").\n",
    "\n",
    "Llamada con Endpoint en funcion de los artistas de spotify"
   ]
  },
  {
   "cell_type": "markdown",
   "metadata": {},
   "source": [
    "Ejemplo de endpoint: https://musicbrainz.org/ws/2/release/?query=album:Abbey%20Road&fmt=json"
   ]
  },
  {
   "cell_type": "code",
   "execution_count": 2,
   "metadata": {},
   "outputs": [],
   "source": [
    "# Llamada a la API\n",
    "\n",
    "url = \"https://musicbrainz.org/ws/2/artist/?query=artist:shakira&fmt=json\"\n",
    "\n",
    "\n",
    "# Hemos sacado key pero de momento no nos hace falta para la llamada\n",
    "# api_key = \"RjTkSzMRh0RiiMO9oyJicZYIuNPLYVkhVbSRtjDB\"\n",
    "# headers = {\"Authorization\": api_key}\n",
    "\n"
   ]
  },
  {
   "cell_type": "code",
   "execution_count": 3,
   "metadata": {},
   "outputs": [],
   "source": [
    "def llamar_api(url):\n",
    "\n",
    "    llamada = requests.get(url)  # Realiza una solicitud GET a la URL proporcionada y almacena la respuesta en 'llamada'.\n",
    "    print(f\"La llamada a la API nos ha dado una respuesta de tipo: {llamada.status_code}\")  # Imprime el código de estado de la respuesta.\n",
    "    if llamada.status_code != 200:  # Comprueba si la respuesta no fue exitosa (código de estado distinto de 200).\n",
    "        print(f\"El motivo por el que la llamada falló es {llamada.reason}\")  # Imprime la razón de la falla.\n",
    "    else:\n",
    "        return llamada.json()  # Si la llamada fue exitosa, devuelve los datos de respuesta en formato JSON."
   ]
  },
  {
   "cell_type": "code",
   "execution_count": 4,
   "metadata": {},
   "outputs": [
    {
     "name": "stdout",
     "output_type": "stream",
     "text": [
      "La llamada a la API nos ha dado una respuesta de tipo: 200\n"
     ]
    },
    {
     "data": {
      "text/plain": [
       "{'created': '2024-10-23T10:20:48.890Z',\n",
       " 'count': 13,\n",
       " 'offset': 0,\n",
       " 'artists': [{'id': 'bf24ca37-25f4-4e34-9aec-460b94364cfc',\n",
       "   'type': 'Person',\n",
       "   'type-id': 'b6e035f4-3ce9-331c-97df-83397230b0df',\n",
       "   'score': 100,\n",
       "   'gender-id': '93452b5a-a947-30c8-934f-6a4056b151c2',\n",
       "   'name': 'Shakira',\n",
       "   'sort-name': 'Shakira',\n",
       "   'gender': 'female',\n",
       "   'country': 'CO',\n",
       "   'area': {'id': '02b60d8d-7164-339d-868d-22d147d9f74a',\n",
       "    'type': 'Country',\n",
       "    'type-id': '06dd0ae4-8c74-30bb-b43d-95dcedf961de',\n",
       "    'name': 'Colombia',\n",
       "    'sort-name': 'Colombia',\n",
       "    'life-span': {'ended': None}},\n",
       "   'begin-area': {'id': 'c75b683f-3238-4fc8-b5ca-1883ab911561',\n",
       "    'type': 'City',\n",
       "    'type-id': '6fd8f29a-3d0a-32fc-980d-ea697b69da78',\n",
       "    'name': 'Barranquilla',\n",
       "    'sort-name': 'Barranquilla',\n",
       "    'life-span': {'ended': None}},\n",
       "   'disambiguation': 'Colombian singer',\n",
       "   'ipis': ['00353347465', '00353347661'],\n",
       "   'isnis': ['0000000116252147', '0000000132386436'],\n",
       "   'life-span': {'begin': '1977-02-02', 'ended': None},\n",
       "   'aliases': [{'sort-name': 'Xiaqila',\n",
       "     'type-id': '894afba6-2816-3c24-8072-eadb66bd04bc',\n",
       "     'name': '夏奇拉',\n",
       "     'locale': 'zh',\n",
       "     'type': 'Artist name',\n",
       "     'primary': None,\n",
       "     'begin-date': None,\n",
       "     'end-date': None},\n",
       "    {'sort-name': 'Shaki',\n",
       "     'type-id': '1937e404-b981-3cb7-8151-4c86ebfc8d8e',\n",
       "     'name': 'Shaki',\n",
       "     'locale': None,\n",
       "     'type': 'Search hint',\n",
       "     'primary': None,\n",
       "     'begin-date': None,\n",
       "     'end-date': None},\n",
       "    {'sort-name': 'Mebarak Ripoll, Shakira Isabel',\n",
       "     'type-id': 'd4dcd0c0-b341-3612-a332-c0ce797b25cf',\n",
       "     'name': 'Shakira Isabel Mebarak Ripoll',\n",
       "     'locale': None,\n",
       "     'type': 'Legal name',\n",
       "     'primary': None,\n",
       "     'begin-date': None,\n",
       "     'end-date': None}],\n",
       "   'tags': [{'count': 0, 'name': 'rock'},\n",
       "    {'count': 4, 'name': 'pop'},\n",
       "    {'count': 0, 'name': 'spanish'},\n",
       "    {'count': 0, 'name': 'alternative'},\n",
       "    {'count': 0, 'name': 'electropop'},\n",
       "    {'count': 0, 'name': 'dance-pop'},\n",
       "    {'count': 3, 'name': 'pop rock'},\n",
       "    {'count': 3, 'name': 'latin pop'},\n",
       "    {'count': 1, 'name': 'latin'},\n",
       "    {'count': 0, 'name': 'colombian'},\n",
       "    {'count': 0, 'name': 'merengue'},\n",
       "    {'count': 0, 'name': 'classic pop and rock'},\n",
       "    {'count': 0, 'name': 'colombia'},\n",
       "    {'count': 0, 'name': 'barranquilla'},\n",
       "    {'count': 0, 'name': 'atlantico'},\n",
       "    {'count': 0, 'name': 'nuno'}]},\n",
       "  {'id': '726cb350-d775-4e07-b006-898555f24b0d',\n",
       "   'type': 'Group',\n",
       "   'type-id': 'e431f5f6-b5d2-343d-8b36-72607fffb74b',\n",
       "   'score': 72,\n",
       "   'name': 'Shakira',\n",
       "   'sort-name': 'Shakira',\n",
       "   'country': 'DE',\n",
       "   'area': {'id': '85752fda-13c4-31a3-bee5-0e5cb1f51dad',\n",
       "    'type': 'Country',\n",
       "    'type-id': '06dd0ae4-8c74-30bb-b43d-95dcedf961de',\n",
       "    'name': 'Germany',\n",
       "    'sort-name': 'Germany',\n",
       "    'life-span': {'ended': None}},\n",
       "   'disambiguation': 'German trance duo',\n",
       "   'life-span': {'ended': None}},\n",
       "  {'id': '99137252-fb33-46a8-9e8f-1d91c9d25234',\n",
       "   'type': 'Group',\n",
       "   'type-id': 'e431f5f6-b5d2-343d-8b36-72607fffb74b',\n",
       "   'score': 71,\n",
       "   'name': 'House of Shakira',\n",
       "   'sort-name': 'House of Shakira',\n",
       "   'country': 'SE',\n",
       "   'area': {'id': '23d10872-f5ae-3f0c-bf55-332788a16ecb',\n",
       "    'type': 'Country',\n",
       "    'type-id': '06dd0ae4-8c74-30bb-b43d-95dcedf961de',\n",
       "    'name': 'Sweden',\n",
       "    'sort-name': 'Sweden',\n",
       "    'life-span': {'ended': None}},\n",
       "   'begin-area': {'id': '1127ddc2-eab3-4662-8718-6adbdeea3b10',\n",
       "    'type': 'City',\n",
       "    'type-id': '6fd8f29a-3d0a-32fc-980d-ea697b69da78',\n",
       "    'name': 'Stockholm',\n",
       "    'sort-name': 'Stockholm',\n",
       "    'life-span': {'ended': None}},\n",
       "   'isnis': ['0000000089132763'],\n",
       "   'life-span': {'begin': '1991', 'ended': None},\n",
       "   'tags': [{'count': 1, 'name': 'hard rock'}]},\n",
       "  {'id': 'f4422c88-df5e-466c-ad6b-3c61bb52728e',\n",
       "   'type': 'Person',\n",
       "   'type-id': 'b6e035f4-3ce9-331c-97df-83397230b0df',\n",
       "   'score': 65,\n",
       "   'gender-id': '93452b5a-a947-30c8-934f-6a4056b151c2',\n",
       "   'name': 'Shakira Jasmine',\n",
       "   'sort-name': 'Jasmine, Shakira',\n",
       "   'gender': 'female',\n",
       "   'country': 'ID',\n",
       "   'area': {'id': 'd3a68bd0-7419-3f99-a5bd-204d6e057089',\n",
       "    'type': 'Country',\n",
       "    'type-id': '06dd0ae4-8c74-30bb-b43d-95dcedf961de',\n",
       "    'name': 'Indonesia',\n",
       "    'sort-name': 'Indonesia',\n",
       "    'life-span': {'ended': None}},\n",
       "   'begin-area': {'id': '9e7d0bdc-925d-47f0-ac6b-2bccdcf4ef4e',\n",
       "    'type': 'City',\n",
       "    'type-id': '6fd8f29a-3d0a-32fc-980d-ea697b69da78',\n",
       "    'name': 'Cimahi',\n",
       "    'sort-name': 'Cimahi',\n",
       "    'life-span': {'ended': None}},\n",
       "   'life-span': {'begin': '2002-10-12', 'ended': None},\n",
       "   'aliases': [{'sort-name': 'Jasmine, Alifa Putri Shakira',\n",
       "     'type-id': 'd4dcd0c0-b341-3612-a332-c0ce797b25cf',\n",
       "     'name': 'Alifa Putri Shakira Jasmine',\n",
       "     'locale': None,\n",
       "     'type': 'Legal name',\n",
       "     'primary': None,\n",
       "     'begin-date': None,\n",
       "     'end-date': None}]},\n",
       "  {'id': 'b8f3c92f-357f-4597-a6c1-820aa7d6cb12',\n",
       "   'type': 'Person',\n",
       "   'type-id': 'b6e035f4-3ce9-331c-97df-83397230b0df',\n",
       "   'score': 65,\n",
       "   'name': 'King Shakira',\n",
       "   'sort-name': 'Shakira, King',\n",
       "   'life-span': {'ended': None}},\n",
       "  {'id': '0cd96b0c-d478-450b-b4ea-f1699a1fe5dc',\n",
       "   'score': 65,\n",
       "   'name': 'Shakira Stitt',\n",
       "   'sort-name': 'Shakira Stitt',\n",
       "   'life-span': {'ended': None}},\n",
       "  {'id': '5e276267-8341-4a2d-bcf9-c7c101e3d201',\n",
       "   'score': 65,\n",
       "   'name': 'Shakira Attily',\n",
       "   'sort-name': 'Shakira Attily',\n",
       "   'life-span': {'ended': None}},\n",
       "  {'id': '857eb7ae-cabe-4f4f-ba0a-59326f7b454e',\n",
       "   'score': 65,\n",
       "   'name': 'Shakira Alleyne',\n",
       "   'sort-name': 'Shakira Alleyne',\n",
       "   'life-span': {'ended': None}},\n",
       "  {'id': 'f8e3430a-961f-43ca-8357-053a2db74063',\n",
       "   'type': 'Group',\n",
       "   'type-id': 'e431f5f6-b5d2-343d-8b36-72607fffb74b',\n",
       "   'score': 65,\n",
       "   'name': 'Team Shakira',\n",
       "   'sort-name': 'Team Shakira',\n",
       "   'country': 'US',\n",
       "   'area': {'id': '489ce91b-6658-3307-9877-795b68554c98',\n",
       "    'type': 'Country',\n",
       "    'type-id': '06dd0ae4-8c74-30bb-b43d-95dcedf961de',\n",
       "    'name': 'United States',\n",
       "    'sort-name': 'United States',\n",
       "    'life-span': {'ended': None}},\n",
       "   'disambiguation': \"Shakira's team on the Voice\",\n",
       "   'life-span': {'begin': '2013', 'ended': None}},\n",
       "  {'id': '8b068dee-6e01-4351-ac1a-7b002d5cca10',\n",
       "   'type': 'Person',\n",
       "   'type-id': 'b6e035f4-3ce9-331c-97df-83397230b0df',\n",
       "   'score': 65,\n",
       "   'gender-id': '93452b5a-a947-30c8-934f-6a4056b151c2',\n",
       "   'name': 'Shakira Jones',\n",
       "   'sort-name': 'Jones, Shakira',\n",
       "   'gender': 'female',\n",
       "   'country': 'US',\n",
       "   'area': {'id': '489ce91b-6658-3307-9877-795b68554c98',\n",
       "    'type': 'Country',\n",
       "    'type-id': '06dd0ae4-8c74-30bb-b43d-95dcedf961de',\n",
       "    'name': 'United States',\n",
       "    'sort-name': 'United States',\n",
       "    'life-span': {'ended': None}},\n",
       "   'life-span': {'ended': None}},\n",
       "  {'id': '3d32d85f-f6bd-4ef3-9793-c2160047ba1a',\n",
       "   'type': 'Person',\n",
       "   'type-id': 'b6e035f4-3ce9-331c-97df-83397230b0df',\n",
       "   'score': 65,\n",
       "   'gender-id': '93452b5a-a947-30c8-934f-6a4056b151c2',\n",
       "   'name': 'Shakira Atily',\n",
       "   'sort-name': 'Atily, Shakira',\n",
       "   'gender': 'female',\n",
       "   'life-span': {'ended': None}},\n",
       "  {'id': '40ff31bd-139a-443e-8945-d674b6161042',\n",
       "   'type': 'Person',\n",
       "   'type-id': 'b6e035f4-3ce9-331c-97df-83397230b0df',\n",
       "   'score': 65,\n",
       "   'gender-id': '93452b5a-a947-30c8-934f-6a4056b151c2',\n",
       "   'name': 'Shakira Tsindos',\n",
       "   'sort-name': 'Tsindos, Shakira',\n",
       "   'gender': 'female',\n",
       "   'country': 'GB',\n",
       "   'area': {'id': '8a754a16-0027-3a29-b6d7-2b40ea0481ed',\n",
       "    'type': 'Country',\n",
       "    'type-id': '06dd0ae4-8c74-30bb-b43d-95dcedf961de',\n",
       "    'name': 'United Kingdom',\n",
       "    'sort-name': 'United Kingdom',\n",
       "    'life-span': {'ended': None}},\n",
       "   'begin-area': {'id': '106e0bec-b638-3b37-b731-f53d507dc00e',\n",
       "    'type': 'Country',\n",
       "    'type-id': '06dd0ae4-8c74-30bb-b43d-95dcedf961de',\n",
       "    'name': 'Australia',\n",
       "    'sort-name': 'Australia',\n",
       "    'life-span': {'ended': None}},\n",
       "   'disambiguation': 'mezzo soprano',\n",
       "   'life-span': {'ended': None}},\n",
       "  {'id': '683b65bf-ff43-4aea-9665-8970cd7eee15',\n",
       "   'type': 'Person',\n",
       "   'type-id': 'b6e035f4-3ce9-331c-97df-83397230b0df',\n",
       "   'score': 61,\n",
       "   'name': 'Shakira Wong-Sioe',\n",
       "   'sort-name': 'Wong-Sioe, Shakira',\n",
       "   'life-span': {'ended': None}}]}"
      ]
     },
     "execution_count": 4,
     "metadata": {},
     "output_type": "execute_result"
    }
   ],
   "source": [
    "result = llamar_api(url)\n",
    "result"
   ]
  },
  {
   "cell_type": "code",
   "execution_count": 5,
   "metadata": {},
   "outputs": [
    {
     "data": {
      "text/plain": [
       "dict_keys(['created', 'count', 'offset', 'artists'])"
      ]
     },
     "execution_count": 5,
     "metadata": {},
     "output_type": "execute_result"
    }
   ],
   "source": [
    "result.keys()"
   ]
  },
  {
   "cell_type": "code",
   "execution_count": 6,
   "metadata": {},
   "outputs": [
    {
     "data": {
      "text/plain": [
       "13"
      ]
     },
     "execution_count": 6,
     "metadata": {},
     "output_type": "execute_result"
    }
   ],
   "source": [
    "result[\"count\"]"
   ]
  },
  {
   "cell_type": "code",
   "execution_count": 7,
   "metadata": {},
   "outputs": [
    {
     "data": {
      "text/plain": [
       "'Person'"
      ]
     },
     "execution_count": 7,
     "metadata": {},
     "output_type": "execute_result"
    }
   ],
   "source": [
    "# Podemos dar por supuesto que es el primer elemento que nos de o iterar entre los dict que tiene la lista resultado y que nos de el valor mas exacto en el name\n",
    "result[\"artists\"][0][\"type\"]"
   ]
  },
  {
   "cell_type": "code",
   "execution_count": 8,
   "metadata": {},
   "outputs": [
    {
     "data": {
      "text/plain": [
       "'Colombia'"
      ]
     },
     "execution_count": 8,
     "metadata": {},
     "output_type": "execute_result"
    }
   ],
   "source": [
    "# Pais origen\n",
    "result[\"artists\"][0][\"area\"][\"name\"]\n",
    "\n"
   ]
  },
  {
   "cell_type": "code",
   "execution_count": 9,
   "metadata": {},
   "outputs": [
    {
     "data": {
      "text/plain": [
       "'Barranquilla'"
      ]
     },
     "execution_count": 9,
     "metadata": {},
     "output_type": "execute_result"
    }
   ],
   "source": [
    "# Area origen\n",
    "result[\"artists\"][0][\"begin-area\"][\"name\"]\n"
   ]
  },
  {
   "cell_type": "code",
   "execution_count": 10,
   "metadata": {},
   "outputs": [
    {
     "data": {
      "text/plain": [
       "'1977-02-02'"
      ]
     },
     "execution_count": 10,
     "metadata": {},
     "output_type": "execute_result"
    }
   ],
   "source": [
    "# Fecha inicio de actividad (si lo hacemos como grupo vs)\n",
    "\n",
    "result[\"artists\"][0][\"life-span\"][\"begin\"]"
   ]
  },
  {
   "cell_type": "code",
   "execution_count": 11,
   "metadata": {},
   "outputs": [],
   "source": [
    "# Fecha fin de actividad\n",
    "\n",
    "result[\"artists\"][0][\"life-span\"][\"ended\"]"
   ]
  },
  {
   "cell_type": "code",
   "execution_count": null,
   "metadata": {},
   "outputs": [],
   "source": [
    "\n",
    "\n",
    "for i in result[\"artists\"][0]: \n",
    "    print(i)"
   ]
  },
  {
   "cell_type": "code",
   "execution_count": null,
   "metadata": {},
   "outputs": [],
   "source": []
  },
  {
   "cell_type": "code",
   "execution_count": 17,
   "metadata": {},
   "outputs": [
    {
     "name": "stdout",
     "output_type": "stream",
     "text": [
      "Archivo dataframes_combinados.json creado con éxito.\n"
     ]
    }
   ],
   "source": [
    "# Paso 1: Leer el archivo CSV\n",
    "spoti_csv_file = \"../data/dataframes_combinados.csv\" # nombre de tu archivo Spoti CSV\n",
    "spoti_json_file = \"dataframes_combinados.json\"  # nombre del archivo Spoti de salida JSON\n",
    "\n",
    "# Paso 2: Abrir el CSV y convertir a formato JSON\n",
    "with open(spoti_csv_file, mode='r', encoding='utf-8') as file:\n",
    "    # Leer el contenido CSV\n",
    "    csv_reader = csv.DictReader(file)\n",
    "    \n",
    "    # Convertir cada fila a diccionario y agregarla a una lista\n",
    "    data = [row for row in csv_reader]\n",
    "\n",
    "# Paso 3: Escribir los datos en un archivo JSON\n",
    "with open(spoti_json_file, mode='w', encoding='utf-8') as file:\n",
    "    json.dump(data, file, indent=4)  # Guarda el JSON con formato legible (indent=4)\n",
    "\n",
    "print(f'Archivo {spoti_json_file} creado con éxito.')"
   ]
  },
  {
   "cell_type": "code",
   "execution_count": 20,
   "metadata": {},
   "outputs": [],
   "source": [
    "#Traemos el archivo a json\n",
    "with open(\"dataframes_combinados.json\",\"r\") as f: \n",
    "    result_spoti = json.load(f)"
   ]
  },
  {
   "cell_type": "code",
   "execution_count": 25,
   "metadata": {},
   "outputs": [],
   "source": [
    "#Creamos lista vacia para que se complete con los artistas\n",
    "artist = []\n",
    "\n",
    "for item in result_spoti: \n",
    "    artist.append(item['artista'])"
   ]
  },
  {
   "cell_type": "code",
   "execution_count": 29,
   "metadata": {},
   "outputs": [],
   "source": [
    "#Convertimos en set para eliminar artistas duplicados (hay artistas con mas de una canción en el mismo año)\n",
    "set_artist = set(artist)"
   ]
  },
  {
   "cell_type": "code",
   "execution_count": null,
   "metadata": {},
   "outputs": [],
   "source": [
    "\n",
    "url = f\"https://musicbrainz.org/ws/2/artist/?query=artist:{set_artist}&fmt=json\""
   ]
  },
  {
   "cell_type": "code",
   "execution_count": null,
   "metadata": {},
   "outputs": [],
   "source": [
    "dict_mb = {\"artista\" : [], \"pais_de_origen\" : [], \"area_de_origen\" : [], \"fecha_nacimiento\" : [], \"fecha_inicio_actividad\" : [], \"fecha_fin_actividad\" :[]}\n",
    "\n",
    "for artista in set_artist: \n",
    "    "
   ]
  },
  {
   "cell_type": "code",
   "execution_count": 33,
   "metadata": {},
   "outputs": [
    {
     "data": {
      "text/plain": [
       "{'created': '2024-10-23T10:20:48.890Z',\n",
       " 'count': 13,\n",
       " 'offset': 0,\n",
       " 'artists': [{'id': 'bf24ca37-25f4-4e34-9aec-460b94364cfc',\n",
       "   'type': 'Person',\n",
       "   'type-id': 'b6e035f4-3ce9-331c-97df-83397230b0df',\n",
       "   'score': 100,\n",
       "   'gender-id': '93452b5a-a947-30c8-934f-6a4056b151c2',\n",
       "   'name': 'Shakira',\n",
       "   'sort-name': 'Shakira',\n",
       "   'gender': 'female',\n",
       "   'country': 'CO',\n",
       "   'area': {'id': '02b60d8d-7164-339d-868d-22d147d9f74a',\n",
       "    'type': 'Country',\n",
       "    'type-id': '06dd0ae4-8c74-30bb-b43d-95dcedf961de',\n",
       "    'name': 'Colombia',\n",
       "    'sort-name': 'Colombia',\n",
       "    'life-span': {'ended': None}},\n",
       "   'begin-area': {'id': 'c75b683f-3238-4fc8-b5ca-1883ab911561',\n",
       "    'type': 'City',\n",
       "    'type-id': '6fd8f29a-3d0a-32fc-980d-ea697b69da78',\n",
       "    'name': 'Barranquilla',\n",
       "    'sort-name': 'Barranquilla',\n",
       "    'life-span': {'ended': None}},\n",
       "   'disambiguation': 'Colombian singer',\n",
       "   'ipis': ['00353347465', '00353347661'],\n",
       "   'isnis': ['0000000116252147', '0000000132386436'],\n",
       "   'life-span': {'begin': '1977-02-02', 'ended': None},\n",
       "   'aliases': [{'sort-name': 'Xiaqila',\n",
       "     'type-id': '894afba6-2816-3c24-8072-eadb66bd04bc',\n",
       "     'name': '夏奇拉',\n",
       "     'locale': 'zh',\n",
       "     'type': 'Artist name',\n",
       "     'primary': None,\n",
       "     'begin-date': None,\n",
       "     'end-date': None},\n",
       "    {'sort-name': 'Shaki',\n",
       "     'type-id': '1937e404-b981-3cb7-8151-4c86ebfc8d8e',\n",
       "     'name': 'Shaki',\n",
       "     'locale': None,\n",
       "     'type': 'Search hint',\n",
       "     'primary': None,\n",
       "     'begin-date': None,\n",
       "     'end-date': None},\n",
       "    {'sort-name': 'Mebarak Ripoll, Shakira Isabel',\n",
       "     'type-id': 'd4dcd0c0-b341-3612-a332-c0ce797b25cf',\n",
       "     'name': 'Shakira Isabel Mebarak Ripoll',\n",
       "     'locale': None,\n",
       "     'type': 'Legal name',\n",
       "     'primary': None,\n",
       "     'begin-date': None,\n",
       "     'end-date': None}],\n",
       "   'tags': [{'count': 0, 'name': 'rock'},\n",
       "    {'count': 4, 'name': 'pop'},\n",
       "    {'count': 0, 'name': 'spanish'},\n",
       "    {'count': 0, 'name': 'alternative'},\n",
       "    {'count': 0, 'name': 'electropop'},\n",
       "    {'count': 0, 'name': 'dance-pop'},\n",
       "    {'count': 3, 'name': 'pop rock'},\n",
       "    {'count': 3, 'name': 'latin pop'},\n",
       "    {'count': 1, 'name': 'latin'},\n",
       "    {'count': 0, 'name': 'colombian'},\n",
       "    {'count': 0, 'name': 'merengue'},\n",
       "    {'count': 0, 'name': 'classic pop and rock'},\n",
       "    {'count': 0, 'name': 'colombia'},\n",
       "    {'count': 0, 'name': 'barranquilla'},\n",
       "    {'count': 0, 'name': 'atlantico'},\n",
       "    {'count': 0, 'name': 'nuno'}]},\n",
       "  {'id': '726cb350-d775-4e07-b006-898555f24b0d',\n",
       "   'type': 'Group',\n",
       "   'type-id': 'e431f5f6-b5d2-343d-8b36-72607fffb74b',\n",
       "   'score': 72,\n",
       "   'name': 'Shakira',\n",
       "   'sort-name': 'Shakira',\n",
       "   'country': 'DE',\n",
       "   'area': {'id': '85752fda-13c4-31a3-bee5-0e5cb1f51dad',\n",
       "    'type': 'Country',\n",
       "    'type-id': '06dd0ae4-8c74-30bb-b43d-95dcedf961de',\n",
       "    'name': 'Germany',\n",
       "    'sort-name': 'Germany',\n",
       "    'life-span': {'ended': None}},\n",
       "   'disambiguation': 'German trance duo',\n",
       "   'life-span': {'ended': None}},\n",
       "  {'id': '99137252-fb33-46a8-9e8f-1d91c9d25234',\n",
       "   'type': 'Group',\n",
       "   'type-id': 'e431f5f6-b5d2-343d-8b36-72607fffb74b',\n",
       "   'score': 71,\n",
       "   'name': 'House of Shakira',\n",
       "   'sort-name': 'House of Shakira',\n",
       "   'country': 'SE',\n",
       "   'area': {'id': '23d10872-f5ae-3f0c-bf55-332788a16ecb',\n",
       "    'type': 'Country',\n",
       "    'type-id': '06dd0ae4-8c74-30bb-b43d-95dcedf961de',\n",
       "    'name': 'Sweden',\n",
       "    'sort-name': 'Sweden',\n",
       "    'life-span': {'ended': None}},\n",
       "   'begin-area': {'id': '1127ddc2-eab3-4662-8718-6adbdeea3b10',\n",
       "    'type': 'City',\n",
       "    'type-id': '6fd8f29a-3d0a-32fc-980d-ea697b69da78',\n",
       "    'name': 'Stockholm',\n",
       "    'sort-name': 'Stockholm',\n",
       "    'life-span': {'ended': None}},\n",
       "   'isnis': ['0000000089132763'],\n",
       "   'life-span': {'begin': '1991', 'ended': None},\n",
       "   'tags': [{'count': 1, 'name': 'hard rock'}]},\n",
       "  {'id': 'f4422c88-df5e-466c-ad6b-3c61bb52728e',\n",
       "   'type': 'Person',\n",
       "   'type-id': 'b6e035f4-3ce9-331c-97df-83397230b0df',\n",
       "   'score': 65,\n",
       "   'gender-id': '93452b5a-a947-30c8-934f-6a4056b151c2',\n",
       "   'name': 'Shakira Jasmine',\n",
       "   'sort-name': 'Jasmine, Shakira',\n",
       "   'gender': 'female',\n",
       "   'country': 'ID',\n",
       "   'area': {'id': 'd3a68bd0-7419-3f99-a5bd-204d6e057089',\n",
       "    'type': 'Country',\n",
       "    'type-id': '06dd0ae4-8c74-30bb-b43d-95dcedf961de',\n",
       "    'name': 'Indonesia',\n",
       "    'sort-name': 'Indonesia',\n",
       "    'life-span': {'ended': None}},\n",
       "   'begin-area': {'id': '9e7d0bdc-925d-47f0-ac6b-2bccdcf4ef4e',\n",
       "    'type': 'City',\n",
       "    'type-id': '6fd8f29a-3d0a-32fc-980d-ea697b69da78',\n",
       "    'name': 'Cimahi',\n",
       "    'sort-name': 'Cimahi',\n",
       "    'life-span': {'ended': None}},\n",
       "   'life-span': {'begin': '2002-10-12', 'ended': None},\n",
       "   'aliases': [{'sort-name': 'Jasmine, Alifa Putri Shakira',\n",
       "     'type-id': 'd4dcd0c0-b341-3612-a332-c0ce797b25cf',\n",
       "     'name': 'Alifa Putri Shakira Jasmine',\n",
       "     'locale': None,\n",
       "     'type': 'Legal name',\n",
       "     'primary': None,\n",
       "     'begin-date': None,\n",
       "     'end-date': None}]},\n",
       "  {'id': 'b8f3c92f-357f-4597-a6c1-820aa7d6cb12',\n",
       "   'type': 'Person',\n",
       "   'type-id': 'b6e035f4-3ce9-331c-97df-83397230b0df',\n",
       "   'score': 65,\n",
       "   'name': 'King Shakira',\n",
       "   'sort-name': 'Shakira, King',\n",
       "   'life-span': {'ended': None}},\n",
       "  {'id': '0cd96b0c-d478-450b-b4ea-f1699a1fe5dc',\n",
       "   'score': 65,\n",
       "   'name': 'Shakira Stitt',\n",
       "   'sort-name': 'Shakira Stitt',\n",
       "   'life-span': {'ended': None}},\n",
       "  {'id': '5e276267-8341-4a2d-bcf9-c7c101e3d201',\n",
       "   'score': 65,\n",
       "   'name': 'Shakira Attily',\n",
       "   'sort-name': 'Shakira Attily',\n",
       "   'life-span': {'ended': None}},\n",
       "  {'id': '857eb7ae-cabe-4f4f-ba0a-59326f7b454e',\n",
       "   'score': 65,\n",
       "   'name': 'Shakira Alleyne',\n",
       "   'sort-name': 'Shakira Alleyne',\n",
       "   'life-span': {'ended': None}},\n",
       "  {'id': 'f8e3430a-961f-43ca-8357-053a2db74063',\n",
       "   'type': 'Group',\n",
       "   'type-id': 'e431f5f6-b5d2-343d-8b36-72607fffb74b',\n",
       "   'score': 65,\n",
       "   'name': 'Team Shakira',\n",
       "   'sort-name': 'Team Shakira',\n",
       "   'country': 'US',\n",
       "   'area': {'id': '489ce91b-6658-3307-9877-795b68554c98',\n",
       "    'type': 'Country',\n",
       "    'type-id': '06dd0ae4-8c74-30bb-b43d-95dcedf961de',\n",
       "    'name': 'United States',\n",
       "    'sort-name': 'United States',\n",
       "    'life-span': {'ended': None}},\n",
       "   'disambiguation': \"Shakira's team on the Voice\",\n",
       "   'life-span': {'begin': '2013', 'ended': None}},\n",
       "  {'id': '8b068dee-6e01-4351-ac1a-7b002d5cca10',\n",
       "   'type': 'Person',\n",
       "   'type-id': 'b6e035f4-3ce9-331c-97df-83397230b0df',\n",
       "   'score': 65,\n",
       "   'gender-id': '93452b5a-a947-30c8-934f-6a4056b151c2',\n",
       "   'name': 'Shakira Jones',\n",
       "   'sort-name': 'Jones, Shakira',\n",
       "   'gender': 'female',\n",
       "   'country': 'US',\n",
       "   'area': {'id': '489ce91b-6658-3307-9877-795b68554c98',\n",
       "    'type': 'Country',\n",
       "    'type-id': '06dd0ae4-8c74-30bb-b43d-95dcedf961de',\n",
       "    'name': 'United States',\n",
       "    'sort-name': 'United States',\n",
       "    'life-span': {'ended': None}},\n",
       "   'life-span': {'ended': None}},\n",
       "  {'id': '3d32d85f-f6bd-4ef3-9793-c2160047ba1a',\n",
       "   'type': 'Person',\n",
       "   'type-id': 'b6e035f4-3ce9-331c-97df-83397230b0df',\n",
       "   'score': 65,\n",
       "   'gender-id': '93452b5a-a947-30c8-934f-6a4056b151c2',\n",
       "   'name': 'Shakira Atily',\n",
       "   'sort-name': 'Atily, Shakira',\n",
       "   'gender': 'female',\n",
       "   'life-span': {'ended': None}},\n",
       "  {'id': '40ff31bd-139a-443e-8945-d674b6161042',\n",
       "   'type': 'Person',\n",
       "   'type-id': 'b6e035f4-3ce9-331c-97df-83397230b0df',\n",
       "   'score': 65,\n",
       "   'gender-id': '93452b5a-a947-30c8-934f-6a4056b151c2',\n",
       "   'name': 'Shakira Tsindos',\n",
       "   'sort-name': 'Tsindos, Shakira',\n",
       "   'gender': 'female',\n",
       "   'country': 'GB',\n",
       "   'area': {'id': '8a754a16-0027-3a29-b6d7-2b40ea0481ed',\n",
       "    'type': 'Country',\n",
       "    'type-id': '06dd0ae4-8c74-30bb-b43d-95dcedf961de',\n",
       "    'name': 'United Kingdom',\n",
       "    'sort-name': 'United Kingdom',\n",
       "    'life-span': {'ended': None}},\n",
       "   'begin-area': {'id': '106e0bec-b638-3b37-b731-f53d507dc00e',\n",
       "    'type': 'Country',\n",
       "    'type-id': '06dd0ae4-8c74-30bb-b43d-95dcedf961de',\n",
       "    'name': 'Australia',\n",
       "    'sort-name': 'Australia',\n",
       "    'life-span': {'ended': None}},\n",
       "   'disambiguation': 'mezzo soprano',\n",
       "   'life-span': {'ended': None}},\n",
       "  {'id': '683b65bf-ff43-4aea-9665-8970cd7eee15',\n",
       "   'type': 'Person',\n",
       "   'type-id': 'b6e035f4-3ce9-331c-97df-83397230b0df',\n",
       "   'score': 61,\n",
       "   'name': 'Shakira Wong-Sioe',\n",
       "   'sort-name': 'Wong-Sioe, Shakira',\n",
       "   'life-span': {'ended': None}}]}"
      ]
     },
     "execution_count": 33,
     "metadata": {},
     "output_type": "execute_result"
    }
   ],
   "source": [
    "result"
   ]
  },
  {
   "cell_type": "code",
   "execution_count": 56,
   "metadata": {},
   "outputs": [
    {
     "data": {
      "text/plain": [
       "{'id': 'bf24ca37-25f4-4e34-9aec-460b94364cfc',\n",
       " 'type': 'Person',\n",
       " 'type-id': 'b6e035f4-3ce9-331c-97df-83397230b0df',\n",
       " 'score': 100,\n",
       " 'gender-id': '93452b5a-a947-30c8-934f-6a4056b151c2',\n",
       " 'name': 'Shakira',\n",
       " 'sort-name': 'Shakira',\n",
       " 'gender': 'female',\n",
       " 'country': 'CO',\n",
       " 'area': {'id': '02b60d8d-7164-339d-868d-22d147d9f74a',\n",
       "  'type': 'Country',\n",
       "  'type-id': '06dd0ae4-8c74-30bb-b43d-95dcedf961de',\n",
       "  'name': 'Colombia',\n",
       "  'sort-name': 'Colombia',\n",
       "  'life-span': {'ended': None}},\n",
       " 'begin-area': {'id': 'c75b683f-3238-4fc8-b5ca-1883ab911561',\n",
       "  'type': 'City',\n",
       "  'type-id': '6fd8f29a-3d0a-32fc-980d-ea697b69da78',\n",
       "  'name': 'Barranquilla',\n",
       "  'sort-name': 'Barranquilla',\n",
       "  'life-span': {'ended': None}},\n",
       " 'disambiguation': 'Colombian singer',\n",
       " 'ipis': ['00353347465', '00353347661'],\n",
       " 'isnis': ['0000000116252147', '0000000132386436'],\n",
       " 'life-span': {'begin': '1977-02-02', 'ended': None},\n",
       " 'aliases': [{'sort-name': 'Xiaqila',\n",
       "   'type-id': '894afba6-2816-3c24-8072-eadb66bd04bc',\n",
       "   'name': '夏奇拉',\n",
       "   'locale': 'zh',\n",
       "   'type': 'Artist name',\n",
       "   'primary': None,\n",
       "   'begin-date': None,\n",
       "   'end-date': None},\n",
       "  {'sort-name': 'Shaki',\n",
       "   'type-id': '1937e404-b981-3cb7-8151-4c86ebfc8d8e',\n",
       "   'name': 'Shaki',\n",
       "   'locale': None,\n",
       "   'type': 'Search hint',\n",
       "   'primary': None,\n",
       "   'begin-date': None,\n",
       "   'end-date': None},\n",
       "  {'sort-name': 'Mebarak Ripoll, Shakira Isabel',\n",
       "   'type-id': 'd4dcd0c0-b341-3612-a332-c0ce797b25cf',\n",
       "   'name': 'Shakira Isabel Mebarak Ripoll',\n",
       "   'locale': None,\n",
       "   'type': 'Legal name',\n",
       "   'primary': None,\n",
       "   'begin-date': None,\n",
       "   'end-date': None}],\n",
       " 'tags': [{'count': 0, 'name': 'rock'},\n",
       "  {'count': 4, 'name': 'pop'},\n",
       "  {'count': 0, 'name': 'spanish'},\n",
       "  {'count': 0, 'name': 'alternative'},\n",
       "  {'count': 0, 'name': 'electropop'},\n",
       "  {'count': 0, 'name': 'dance-pop'},\n",
       "  {'count': 3, 'name': 'pop rock'},\n",
       "  {'count': 3, 'name': 'latin pop'},\n",
       "  {'count': 1, 'name': 'latin'},\n",
       "  {'count': 0, 'name': 'colombian'},\n",
       "  {'count': 0, 'name': 'merengue'},\n",
       "  {'count': 0, 'name': 'classic pop and rock'},\n",
       "  {'count': 0, 'name': 'colombia'},\n",
       "  {'count': 0, 'name': 'barranquilla'},\n",
       "  {'count': 0, 'name': 'atlantico'},\n",
       "  {'count': 0, 'name': 'nuno'}]}"
      ]
     },
     "execution_count": 56,
     "metadata": {},
     "output_type": "execute_result"
    }
   ],
   "source": [
    "result[\"artists\"][0]"
   ]
  },
  {
   "cell_type": "code",
   "execution_count": 70,
   "metadata": {},
   "outputs": [
    {
     "name": "stdout",
     "output_type": "stream",
     "text": [
      "{'id': 'bf24ca37-25f4-4e34-9aec-460b94364cfc', 'type': 'Person', 'type-id': 'b6e035f4-3ce9-331c-97df-83397230b0df', 'score': 100, 'gender-id': '93452b5a-a947-30c8-934f-6a4056b151c2', 'name': 'Shakira', 'sort-name': 'Shakira', 'gender': 'female', 'country': 'CO', 'area': {'id': '02b60d8d-7164-339d-868d-22d147d9f74a', 'type': 'Country', 'type-id': '06dd0ae4-8c74-30bb-b43d-95dcedf961de', 'name': 'Colombia', 'sort-name': 'Colombia', 'life-span': {'ended': None}}, 'begin-area': {'id': 'c75b683f-3238-4fc8-b5ca-1883ab911561', 'type': 'City', 'type-id': '6fd8f29a-3d0a-32fc-980d-ea697b69da78', 'name': 'Barranquilla', 'sort-name': 'Barranquilla', 'life-span': {'ended': None}}, 'disambiguation': 'Colombian singer', 'ipis': ['00353347465', '00353347661'], 'isnis': ['0000000116252147', '0000000132386436'], 'life-span': {'begin': '1977-02-02', 'ended': None}, 'aliases': [{'sort-name': 'Xiaqila', 'type-id': '894afba6-2816-3c24-8072-eadb66bd04bc', 'name': '夏奇拉', 'locale': 'zh', 'type': 'Artist name', 'primary': None, 'begin-date': None, 'end-date': None}, {'sort-name': 'Shaki', 'type-id': '1937e404-b981-3cb7-8151-4c86ebfc8d8e', 'name': 'Shaki', 'locale': None, 'type': 'Search hint', 'primary': None, 'begin-date': None, 'end-date': None}, {'sort-name': 'Mebarak Ripoll, Shakira Isabel', 'type-id': 'd4dcd0c0-b341-3612-a332-c0ce797b25cf', 'name': 'Shakira Isabel Mebarak Ripoll', 'locale': None, 'type': 'Legal name', 'primary': None, 'begin-date': None, 'end-date': None}], 'tags': [{'count': 0, 'name': 'rock'}, {'count': 4, 'name': 'pop'}, {'count': 0, 'name': 'spanish'}, {'count': 0, 'name': 'alternative'}, {'count': 0, 'name': 'electropop'}, {'count': 0, 'name': 'dance-pop'}, {'count': 3, 'name': 'pop rock'}, {'count': 3, 'name': 'latin pop'}, {'count': 1, 'name': 'latin'}, {'count': 0, 'name': 'colombian'}, {'count': 0, 'name': 'merengue'}, {'count': 0, 'name': 'classic pop and rock'}, {'count': 0, 'name': 'colombia'}, {'count': 0, 'name': 'barranquilla'}, {'count': 0, 'name': 'atlantico'}, {'count': 0, 'name': 'nuno'}]}\n",
      "[{'id': 'bf24ca37-25f4-4e34-9aec-460b94364cfc', 'type': 'Person', 'type-id': 'b6e035f4-3ce9-331c-97df-83397230b0df', 'score': 100, 'gender-id': '93452b5a-a947-30c8-934f-6a4056b151c2', 'name': 'Shakira', 'sort-name': 'Shakira', 'gender': 'female', 'country': 'CO', 'area': {'id': '02b60d8d-7164-339d-868d-22d147d9f74a', 'type': 'Country', 'type-id': '06dd0ae4-8c74-30bb-b43d-95dcedf961de', 'name': 'Colombia', 'sort-name': 'Colombia', 'life-span': {'ended': None}}, 'begin-area': {'id': 'c75b683f-3238-4fc8-b5ca-1883ab911561', 'type': 'City', 'type-id': '6fd8f29a-3d0a-32fc-980d-ea697b69da78', 'name': 'Barranquilla', 'sort-name': 'Barranquilla', 'life-span': {'ended': None}}, 'disambiguation': 'Colombian singer', 'ipis': ['00353347465', '00353347661'], 'isnis': ['0000000116252147', '0000000132386436'], 'life-span': {'begin': '1977-02-02', 'ended': None}, 'aliases': [{'sort-name': 'Xiaqila', 'type-id': '894afba6-2816-3c24-8072-eadb66bd04bc', 'name': '夏奇拉', 'locale': 'zh', 'type': 'Artist name', 'primary': None, 'begin-date': None, 'end-date': None}, {'sort-name': 'Shaki', 'type-id': '1937e404-b981-3cb7-8151-4c86ebfc8d8e', 'name': 'Shaki', 'locale': None, 'type': 'Search hint', 'primary': None, 'begin-date': None, 'end-date': None}, {'sort-name': 'Mebarak Ripoll, Shakira Isabel', 'type-id': 'd4dcd0c0-b341-3612-a332-c0ce797b25cf', 'name': 'Shakira Isabel Mebarak Ripoll', 'locale': None, 'type': 'Legal name', 'primary': None, 'begin-date': None, 'end-date': None}], 'tags': [{'count': 0, 'name': 'rock'}, {'count': 4, 'name': 'pop'}, {'count': 0, 'name': 'spanish'}, {'count': 0, 'name': 'alternative'}, {'count': 0, 'name': 'electropop'}, {'count': 0, 'name': 'dance-pop'}, {'count': 3, 'name': 'pop rock'}, {'count': 3, 'name': 'latin pop'}, {'count': 1, 'name': 'latin'}, {'count': 0, 'name': 'colombian'}, {'count': 0, 'name': 'merengue'}, {'count': 0, 'name': 'classic pop and rock'}, {'count': 0, 'name': 'colombia'}, {'count': 0, 'name': 'barranquilla'}, {'count': 0, 'name': 'atlantico'}, {'count': 0, 'name': 'nuno'}]}, {'id': '726cb350-d775-4e07-b006-898555f24b0d', 'type': 'Group', 'type-id': 'e431f5f6-b5d2-343d-8b36-72607fffb74b', 'score': 72, 'name': 'Shakira', 'sort-name': 'Shakira', 'country': 'DE', 'area': {'id': '85752fda-13c4-31a3-bee5-0e5cb1f51dad', 'type': 'Country', 'type-id': '06dd0ae4-8c74-30bb-b43d-95dcedf961de', 'name': 'Germany', 'sort-name': 'Germany', 'life-span': {'ended': None}}, 'disambiguation': 'German trance duo', 'life-span': {'ended': None}}, {'id': '99137252-fb33-46a8-9e8f-1d91c9d25234', 'type': 'Group', 'type-id': 'e431f5f6-b5d2-343d-8b36-72607fffb74b', 'score': 71, 'name': 'House of Shakira', 'sort-name': 'House of Shakira', 'country': 'SE', 'area': {'id': '23d10872-f5ae-3f0c-bf55-332788a16ecb', 'type': 'Country', 'type-id': '06dd0ae4-8c74-30bb-b43d-95dcedf961de', 'name': 'Sweden', 'sort-name': 'Sweden', 'life-span': {'ended': None}}, 'begin-area': {'id': '1127ddc2-eab3-4662-8718-6adbdeea3b10', 'type': 'City', 'type-id': '6fd8f29a-3d0a-32fc-980d-ea697b69da78', 'name': 'Stockholm', 'sort-name': 'Stockholm', 'life-span': {'ended': None}}, 'isnis': ['0000000089132763'], 'life-span': {'begin': '1991', 'ended': None}, 'tags': [{'count': 1, 'name': 'hard rock'}]}, {'id': 'f4422c88-df5e-466c-ad6b-3c61bb52728e', 'type': 'Person', 'type-id': 'b6e035f4-3ce9-331c-97df-83397230b0df', 'score': 65, 'gender-id': '93452b5a-a947-30c8-934f-6a4056b151c2', 'name': 'Shakira Jasmine', 'sort-name': 'Jasmine, Shakira', 'gender': 'female', 'country': 'ID', 'area': {'id': 'd3a68bd0-7419-3f99-a5bd-204d6e057089', 'type': 'Country', 'type-id': '06dd0ae4-8c74-30bb-b43d-95dcedf961de', 'name': 'Indonesia', 'sort-name': 'Indonesia', 'life-span': {'ended': None}}, 'begin-area': {'id': '9e7d0bdc-925d-47f0-ac6b-2bccdcf4ef4e', 'type': 'City', 'type-id': '6fd8f29a-3d0a-32fc-980d-ea697b69da78', 'name': 'Cimahi', 'sort-name': 'Cimahi', 'life-span': {'ended': None}}, 'life-span': {'begin': '2002-10-12', 'ended': None}, 'aliases': [{'sort-name': 'Jasmine, Alifa Putri Shakira', 'type-id': 'd4dcd0c0-b341-3612-a332-c0ce797b25cf', 'name': 'Alifa Putri Shakira Jasmine', 'locale': None, 'type': 'Legal name', 'primary': None, 'begin-date': None, 'end-date': None}]}, {'id': 'b8f3c92f-357f-4597-a6c1-820aa7d6cb12', 'type': 'Person', 'type-id': 'b6e035f4-3ce9-331c-97df-83397230b0df', 'score': 65, 'name': 'King Shakira', 'sort-name': 'Shakira, King', 'life-span': {'ended': None}}, {'id': '0cd96b0c-d478-450b-b4ea-f1699a1fe5dc', 'score': 65, 'name': 'Shakira Stitt', 'sort-name': 'Shakira Stitt', 'life-span': {'ended': None}}, {'id': '5e276267-8341-4a2d-bcf9-c7c101e3d201', 'score': 65, 'name': 'Shakira Attily', 'sort-name': 'Shakira Attily', 'life-span': {'ended': None}}, {'id': '857eb7ae-cabe-4f4f-ba0a-59326f7b454e', 'score': 65, 'name': 'Shakira Alleyne', 'sort-name': 'Shakira Alleyne', 'life-span': {'ended': None}}, {'id': 'f8e3430a-961f-43ca-8357-053a2db74063', 'type': 'Group', 'type-id': 'e431f5f6-b5d2-343d-8b36-72607fffb74b', 'score': 65, 'name': 'Team Shakira', 'sort-name': 'Team Shakira', 'country': 'US', 'area': {'id': '489ce91b-6658-3307-9877-795b68554c98', 'type': 'Country', 'type-id': '06dd0ae4-8c74-30bb-b43d-95dcedf961de', 'name': 'United States', 'sort-name': 'United States', 'life-span': {'ended': None}}, 'disambiguation': \"Shakira's team on the Voice\", 'life-span': {'begin': '2013', 'ended': None}}, {'id': '8b068dee-6e01-4351-ac1a-7b002d5cca10', 'type': 'Person', 'type-id': 'b6e035f4-3ce9-331c-97df-83397230b0df', 'score': 65, 'gender-id': '93452b5a-a947-30c8-934f-6a4056b151c2', 'name': 'Shakira Jones', 'sort-name': 'Jones, Shakira', 'gender': 'female', 'country': 'US', 'area': {'id': '489ce91b-6658-3307-9877-795b68554c98', 'type': 'Country', 'type-id': '06dd0ae4-8c74-30bb-b43d-95dcedf961de', 'name': 'United States', 'sort-name': 'United States', 'life-span': {'ended': None}}, 'life-span': {'ended': None}}, {'id': '3d32d85f-f6bd-4ef3-9793-c2160047ba1a', 'type': 'Person', 'type-id': 'b6e035f4-3ce9-331c-97df-83397230b0df', 'score': 65, 'gender-id': '93452b5a-a947-30c8-934f-6a4056b151c2', 'name': 'Shakira Atily', 'sort-name': 'Atily, Shakira', 'gender': 'female', 'life-span': {'ended': None}}, {'id': '40ff31bd-139a-443e-8945-d674b6161042', 'type': 'Person', 'type-id': 'b6e035f4-3ce9-331c-97df-83397230b0df', 'score': 65, 'gender-id': '93452b5a-a947-30c8-934f-6a4056b151c2', 'name': 'Shakira Tsindos', 'sort-name': 'Tsindos, Shakira', 'gender': 'female', 'country': 'GB', 'area': {'id': '8a754a16-0027-3a29-b6d7-2b40ea0481ed', 'type': 'Country', 'type-id': '06dd0ae4-8c74-30bb-b43d-95dcedf961de', 'name': 'United Kingdom', 'sort-name': 'United Kingdom', 'life-span': {'ended': None}}, 'begin-area': {'id': '106e0bec-b638-3b37-b731-f53d507dc00e', 'type': 'Country', 'type-id': '06dd0ae4-8c74-30bb-b43d-95dcedf961de', 'name': 'Australia', 'sort-name': 'Australia', 'life-span': {'ended': None}}, 'disambiguation': 'mezzo soprano', 'life-span': {'ended': None}}, {'id': '683b65bf-ff43-4aea-9665-8970cd7eee15', 'type': 'Person', 'type-id': 'b6e035f4-3ce9-331c-97df-83397230b0df', 'score': 61, 'name': 'Shakira Wong-Sioe', 'sort-name': 'Wong-Sioe, Shakira', 'life-span': {'ended': None}}]\n",
      "Shakira\n",
      "Colombia\n",
      "Barranquilla\n"
     ]
    }
   ],
   "source": [
    "dic_shakira = {\"artista\" : [], \"pais_de_origen\" : [], \"area_de_origen\" : []}\n",
    "\n",
    "for i in result[\"artists\"]: \n",
    "   print(i)\n",
    "   print(result[\"artists\"])\n",
    "   print(i[\"name\"])\n",
    "   print(i[\"area\"][\"name\"])\n",
    "   print(i[\"begin-area\"][\"name\"])\n",
    "   break\n",
    "   "
   ]
  },
  {
   "cell_type": "code",
   "execution_count": 58,
   "metadata": {},
   "outputs": [
    {
     "data": {
      "text/plain": [
       "{'artista': [], 'pais_de_origen': [], 'area_de_origen': []}"
      ]
     },
     "execution_count": 58,
     "metadata": {},
     "output_type": "execute_result"
    }
   ],
   "source": [
    "dic_shakira"
   ]
  },
  {
   "cell_type": "code",
   "execution_count": 71,
   "metadata": {},
   "outputs": [
    {
     "ename": "KeyError",
     "evalue": "'area'",
     "output_type": "error",
     "traceback": [
      "\u001b[0;31m---------------------------------------------------------------------------\u001b[0m",
      "\u001b[0;31mKeyError\u001b[0m                                  Traceback (most recent call last)",
      "Cell \u001b[0;32mIn[71], line 6\u001b[0m\n\u001b[1;32m      3\u001b[0m \u001b[38;5;28;01mfor\u001b[39;00m i \u001b[38;5;129;01min\u001b[39;00m result[\u001b[38;5;124m\"\u001b[39m\u001b[38;5;124martists\u001b[39m\u001b[38;5;124m\"\u001b[39m]: \n\u001b[1;32m      5\u001b[0m    dic_shakira[\u001b[38;5;124m\"\u001b[39m\u001b[38;5;124martista\u001b[39m\u001b[38;5;124m\"\u001b[39m]\u001b[38;5;241m.\u001b[39mappend(i[\u001b[38;5;124m\"\u001b[39m\u001b[38;5;124mname\u001b[39m\u001b[38;5;124m\"\u001b[39m])\n\u001b[0;32m----> 6\u001b[0m    dic_shakira[\u001b[38;5;124m\"\u001b[39m\u001b[38;5;124mpais_de_origen\u001b[39m\u001b[38;5;124m\"\u001b[39m]\u001b[38;5;241m.\u001b[39mappend(i[\u001b[38;5;124m\"\u001b[39m\u001b[38;5;124marea\u001b[39m\u001b[38;5;124m\"\u001b[39m][\u001b[38;5;124m\"\u001b[39m\u001b[38;5;124mname\u001b[39m\u001b[38;5;124m\"\u001b[39m])\n",
      "\u001b[0;31mKeyError\u001b[0m: 'area'"
     ]
    }
   ],
   "source": [
    "dic_shakira = {\"artista\" : [], \"pais_de_origen\" : [], \"area_de_origen\" : [], \"fecha_nacimiento\" : [], \"fecha_inicio_actividad\" : [], \"fecha_fin_actividad\" :[]}\n",
    "\n",
    "for i in result[\"artists\"]: \n",
    "    \n",
    "   dic_shakira[\"artista\"].append(i[\"name\"])\n",
    "   dic_shakira[\"pais_de_origen\"].append(i[\"area\"][\"name\"])  "
   ]
  }
 ],
 "metadata": {
  "kernelspec": {
   "display_name": "base",
   "language": "python",
   "name": "python3"
  },
  "language_info": {
   "codemirror_mode": {
    "name": "ipython",
    "version": 3
   },
   "file_extension": ".py",
   "mimetype": "text/x-python",
   "name": "python",
   "nbconvert_exporter": "python",
   "pygments_lexer": "ipython3",
   "version": "3.12.4"
  }
 },
 "nbformat": 4,
 "nbformat_minor": 2
}
