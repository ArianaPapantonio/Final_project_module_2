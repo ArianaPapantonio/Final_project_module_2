{
 "cells": [
  {
   "cell_type": "code",
   "execution_count": 1,
   "metadata": {},
   "outputs": [],
   "source": [
    "import pandas as pd\n",
    "import requests\n",
    "import re\n",
    "import spotipy\n",
    "from spotipy.oauth2 import SpotifyClientCredentials\n",
    "pd.set_option('display.max_columns', None)\n",
    "pd.set_option('display.max_rows', None)\n",
    "import os\n",
    "from dotenv import load_dotenv \n",
    "\n",
    "\n",
    "#esto para que vuelva a mostrar los dataframe cortados\n",
    "#pd.reset_option('display.max_rows')\n",
    "#pd.reset_option('display.max_columns')"
   ]
  },
  {
   "cell_type": "code",
   "execution_count": 2,
   "metadata": {},
   "outputs": [
    {
     "name": "stdout",
     "output_type": "stream",
     "text": [
      "Requirement already satisfied: spotipy in /home/ariana91/anaconda4/lib/python3.12/site-packages (2.24.0)\n",
      "Requirement already satisfied: redis>=3.5.3 in /home/ariana91/anaconda4/lib/python3.12/site-packages (from spotipy) (5.1.1)\n",
      "Requirement already satisfied: requests>=2.25.0 in /home/ariana91/anaconda4/lib/python3.12/site-packages (from spotipy) (2.32.2)\n",
      "Requirement already satisfied: urllib3>=1.26.0 in /home/ariana91/anaconda4/lib/python3.12/site-packages (from spotipy) (2.2.2)\n",
      "Requirement already satisfied: charset-normalizer<4,>=2 in /home/ariana91/anaconda4/lib/python3.12/site-packages (from requests>=2.25.0->spotipy) (2.0.4)\n",
      "Requirement already satisfied: idna<4,>=2.5 in /home/ariana91/anaconda4/lib/python3.12/site-packages (from requests>=2.25.0->spotipy) (3.7)\n",
      "Requirement already satisfied: certifi>=2017.4.17 in /home/ariana91/anaconda4/lib/python3.12/site-packages (from requests>=2.25.0->spotipy) (2024.6.2)\n",
      "Note: you may need to restart the kernel to use updated packages.\n"
     ]
    }
   ],
   "source": [
    "pip install spotipy"
   ]
  },
  {
   "cell_type": "code",
   "execution_count": 5,
   "metadata": {},
   "outputs": [],
   "source": [
    "# Coloca tus credenciales aquí\n",
    "CLIENT_ID = \"fbebe461d0154abf898e3edc195b45a0\" # tu identificador de la api\n",
    "CLIENT_SECRET = \"17d5e64384624517b40ebcb28c4ca986\"\n",
    "\n",
    "# Autenticación\n",
    "auth_manager = SpotifyClientCredentials(client_id=CLIENT_ID, client_secret=CLIENT_SECRET)\n",
    "sp = spotipy.Spotify(auth_manager=auth_manager)"
   ]
  },
  {
   "cell_type": "code",
   "execution_count": null,
   "metadata": {},
   "outputs": [],
   "source": [
    "#ELECTRONICA 2021 - 2022: \n",
    "\n",
    "electronica_2021_22 = {\"nombre_cancion_album\": [], \"artista\": [], \"tipo_album_cancion\" : [], \"año_lanzamiento\" : [], \"género\" : []} ##Falta añadir contador\n",
    "\n",
    "contador = {}\n",
    "\n",
    "for ind in range(0,1000,50): #Rango de 1000 canciones de 50 en 50\n",
    "    \n",
    "    datos = sp.search(q=\"genre:electronica year:2021-2022\", type='track', limit=50, offset=ind)\n",
    "\n",
    "    json_sp = datos[\"tracks\"][\"items\"]\n",
    "\n",
    "    for elemento in json_sp:\n",
    "        electronica_2021_22[\"nombre_cancion_album\"].append(elemento[\"name\"]) #Añade nombre cancion\n",
    "        electronica_2021_22[\"tipo_album_cancion\"].append(elemento[\"album\"][\"album_type\"]) #Añade si es album o single\n",
    "        release_date = elemento[\"album\"][\"release_date\"] #Define fecha de lanzamiento\n",
    "        año = release_date.split(\"-\")[0] #Divide la fecha\n",
    "        electronica_2021_22[\"año_lanzamiento\"].append(año) #Append solo el año de lanzamiento\n",
    "        electronica_2021_22[\"artista\"].append(elemento[\"album\"][\"artists\"][0][\"name\"]) #Añade nombre de artista (solo uno por cancion)\n",
    "        electronica_2021_22[\"género\"].append(\"Electrónica\") #Añade género\n",
    "\n",
    "    artista = electronica_2021_22[\"artista\"]\n",
    "\n",
    "    if artista in contador: \n",
    "        contador[\"artista\"] += 1\n",
    "    else: \n",
    "        contador[\"artista\"] = 1  "
   ]
  },
  {
   "cell_type": "code",
   "execution_count": null,
   "metadata": {},
   "outputs": [],
   "source": [
    "#Es necesario que sea dataframe para que funcione el proximo paso\n",
    "\n",
    "electronica_2021_22= pd.DataFrame(electronica_2021_22) \n",
    "electronica_2021_22 "
   ]
  },
  {
   "cell_type": "code",
   "execution_count": 15,
   "metadata": {},
   "outputs": [],
   "source": [
    "#Value count (para contar los valores)\n",
    "contador = electronica_2021_22[\"artista\"].value_counts()"
   ]
  },
  {
   "cell_type": "code",
   "execution_count": 16,
   "metadata": {},
   "outputs": [
    {
     "data": {
      "text/plain": [
       "artista\n",
       "Bonobo               8\n",
       "Metronomy            5\n",
       "Flying Lotus         5\n",
       "BICEP                4\n",
       "Ladytron             3\n",
       "Ross from Friends    2\n",
       "WhoMadeWho           2\n",
       "Jamie xx             2\n",
       "Rhye                 2\n",
       "Justice              2\n",
       "Röyksopp             2\n",
       "Clark                1\n",
       "Daphni               1\n",
       "SBTRKT               1\n",
       "LOUTA                1\n",
       "Christian Löffler    1\n",
       "Weval                1\n",
       "Nosaj Thing          1\n",
       "Nightmares On Wax    1\n",
       "Peces Raros          1\n",
       "Joy Orbison          1\n",
       "LCD Soundsystem      1\n",
       "Burial               1\n",
       "Caribou              1\n",
       "Name: count, dtype: int64"
      ]
     },
     "execution_count": 16,
     "metadata": {},
     "output_type": "execute_result"
    }
   ],
   "source": [
    "contador"
   ]
  }
 ],
 "metadata": {
  "kernelspec": {
   "display_name": "base",
   "language": "python",
   "name": "python3"
  },
  "language_info": {
   "codemirror_mode": {
    "name": "ipython",
    "version": 3
   },
   "file_extension": ".py",
   "mimetype": "text/x-python",
   "name": "python",
   "nbconvert_exporter": "python",
   "pygments_lexer": "ipython3",
   "version": "3.12.4"
  }
 },
 "nbformat": 4,
 "nbformat_minor": 2
}
