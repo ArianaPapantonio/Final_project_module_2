{
 "cells": [
  {
   "cell_type": "code",
   "execution_count": 1,
   "metadata": {},
   "outputs": [
    {
     "name": "stdout",
     "output_type": "stream",
     "text": [
      "Actualizados valores 'None' en Artistas.artista\n",
      "Actualizados valores 'None' en estadisticas.artistas_similares\n",
      "Actualizados valores 'None' en info_canciones.nombre_cancion_album\n",
      "Actualizados valores 'None' en info_canciones.tipo_album_cancion\n",
      "Actualizados valores 'None' en info_canciones.género\n",
      "Actualizados valores 'None' en informacion_artista.biografia\n",
      "Actualizados valores 'None' en informacion_artista.pais_de_origen\n",
      "Actualizados valores 'None' en informacion_artista.area_de_origen\n",
      "Actualizados valores 'None' en informacion_artista.fecha_nacimiento\n",
      "Actualizados valores 'None' en informacion_artista.fecha_inicio_actividad\n",
      "Actualizados valores 'None' en informacion_artista.fecha_fin_actividad\n",
      "Actualizados valores 'None' en musicbrainz1.artista\n",
      "Actualizados valores 'None' en musicbrainz1.pais_de_origen\n",
      "Actualizados valores 'None' en musicbrainz1.area_de_origen\n",
      "Actualizados valores 'None' en musicbrainz1.fecha_nacimiento\n",
      "Actualizados valores 'None' en musicbrainz1.fecha_inicio_actividad\n",
      "Actualizados valores 'None' en musicbrainz1.fecha_fin_actividad\n"
     ]
    }
   ],
   "source": [
    "import mysql.connector\n",
    "from time import sleep\n",
    "\n",
    "# Configuración de la conexión\n",
    "conexion = mysql.connector.connect(\n",
    "    host=\"localhost\",\n",
    "    user=\"root\",\n",
    "    password=\"AlumnaAdalab\",\n",
    "    database=\"MusicStream_PR2_G2\"\n",
    ")\n",
    "cursor = conexion.cursor()\n",
    "\n",
    "# Obtener todas las tablas\n",
    "cursor.execute(\"SHOW TABLES\")\n",
    "tablas = cursor.fetchall()\n",
    "\n",
    "for (tabla,) in tablas:\n",
    "    cursor.execute(f\"SHOW COLUMNS FROM {tabla}\")\n",
    "    columnas = cursor.fetchall()\n",
    "\n",
    "    for (columna, tipo, _, _, _, _) in columnas:\n",
    "        if tipo.startswith(('char', 'varchar', 'text')):\n",
    "            try:\n",
    "                sql = f\"UPDATE {tabla} SET {columna} = NULL WHERE {columna} = 'None'\"\n",
    "                cursor.execute(sql)\n",
    "                print(f\"Actualizados valores 'None' en {tabla}.{columna}\")\n",
    "            except mysql.connector.Error as err:\n",
    "                print(f\"Error al actualizar en {tabla}.{columna}: {err}\")\n",
    "                # Esperar y reintentar\n",
    "                sleep(2)  # Espera 2 segundos antes de reintentar\n",
    "                continue\n",
    "\n",
    "# Confirmar cambios y cerrar la conexión\n",
    "conexion.commit()\n",
    "cursor.close()\n",
    "conexion.close()\n"
   ]
  }
 ],
 "metadata": {
  "kernelspec": {
   "display_name": "Python 3",
   "language": "python",
   "name": "python3"
  },
  "language_info": {
   "codemirror_mode": {
    "name": "ipython",
    "version": 3
   },
   "file_extension": ".py",
   "mimetype": "text/x-python",
   "name": "python",
   "nbconvert_exporter": "python",
   "pygments_lexer": "ipython3",
   "version": "3.9.6"
  }
 },
 "nbformat": 4,
 "nbformat_minor": 2
}
