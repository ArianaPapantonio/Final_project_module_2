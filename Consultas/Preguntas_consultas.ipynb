{
 "cells": [
  {
   "cell_type": "markdown",
   "metadata": {},
   "source": [
    "## Consultas"
   ]
  },
  {
   "cell_type": "markdown",
   "metadata": {},
   "source": [
    "#### 1: ¿Qué género tiene el promedio más alto de reproducciones?.\n",
    "\n",
    "Archivo JSON: genero_mas_reproducciones_01.json"
   ]
  },
  {
   "cell_type": "markdown",
   "metadata": {},
   "source": [
    "#### 2:¿Cuales son los artistas con más Listeners por genero y sus cantantes similares?. \n",
    "\n",
    "Archivos JSON: artistas_listener_similares (hay uno por cada género) "
   ]
  },
  {
   "cell_type": "markdown",
   "metadata": {},
   "source": [
    "#### 3: ¿Cuántos artistas pertenecen a cada género en la base de datos y cuál es el género con más artistas?.\n",
    "\n",
    "Archivo JSON: artistas_genero_03.json"
   ]
  },
  {
   "cell_type": "markdown",
   "metadata": {},
   "source": [
    "#### 4: ¿Cuáles son los artistas menos escuchados?4.¿Cuáles son los artistas menos escuchados?\n",
    "\n",
    "Archivo JSON: artistas_menos_reproducciones_04.json"
   ]
  },
  {
   "cell_type": "markdown",
   "metadata": {},
   "source": [
    "#### 5: ¿Qué paises tiene mas artistas? (ordenar por cantidad).\n",
    "\n",
    "Archivo JSON: paises_mas_artistas_05.json"
   ]
  },
  {
   "cell_type": "markdown",
   "metadata": {},
   "source": [
    "#### 6: ¿Qué paises tiene mas artistas? (ordenar por cantidad).\n",
    "\n",
    "Archivo JSON: artistas_mas_canciones_genero_Latino_06.json"
   ]
  }
 ],
 "metadata": {
  "language_info": {
   "name": "python"
  }
 },
 "nbformat": 4,
 "nbformat_minor": 2
}
